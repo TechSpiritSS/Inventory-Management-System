{
 "cells": [
  {
   "cell_type": "code",
   "execution_count": 1,
   "metadata": {},
   "outputs": [],
   "source": [
    "import json\n",
    "import time"
   ]
  },
  {
   "cell_type": "code",
   "execution_count": 2,
   "metadata": {},
   "outputs": [],
   "source": [
    "fd=open(\"records.json\",\"w\")\n",
    "products={'1001':{\"name\":\"Apple juice\",\"price\":40,\"quantity\":100,\"ex_date\":\"12-8-2020\",\"maf_date\":\"10-6-2020\"},\n",
    "          '1002':{\"name\":\"orange Juice\",\"price\":40,\"quantity\":100,\"ex_date\":\"12-8-2020\",\"maf_date\":\"10-6-2020\"},\n",
    "          '1003':{\"name\":\"jackfruit juice\",\"price\":40,\"quantity\":100,\"ex_date\":\"12-8-2020\",\"maf_date\":\"10-6-2020\"} ,\n",
    "         '1004':{\"name\":\"Apricot Juice\",\"price\":40,\"quantity\":100,\"ex_date\":\"12-8-2020\",\"maf_date\":\"10-6-2020\"},\n",
    "         '1005':{\"name\":\"Butter Fruit Juice\",\"price\":40,\"quantity\":100,\"ex_date\":\"12-8-2020\",\"maf_date\":\"10-6-2020\"},\n",
    "         '1006':{\"name\":\"Banana Juice\",\"price\":40,\"quantity\":100,\"ex_date\":\"12-8-2020\",\"maf_date\":\"10-6-2020\"},\n",
    "         '1007':{\"name\":\"Cape gooseberries Juice\",\"price\":40,\"quantity\":100,\"ex_date\":\"12-8-2020\",\"maf_date\":\"10-6-2020\"},\n",
    "         '1008':{\"name\":\"Cherry Juice\",\"price\":40,\"quantity\":100,\"ex_date\":\"12-8-2020\",\"maf_date\":\"10-6-2020\"},\n",
    "         '1009':{\"name\":\"Custard apple Juice\",\"price\":40,\"quantity\":100,\"ex_date\":\"12-8-2020\",\"maf_date\":\"10-6-2020\"},\n",
    "         '1010':{\"name\":\"Dates Juice\",\"price\":40,\"quantity\":100,\"ex_date\":\"12-8-2020\",\"maf_date\":\"10-6-2020\"},\n",
    "         '1011':{\"name\":\"Plum Juice\",\"price\":40,\"quantity\":100,\"ex_date\":\"12-8-2020\",\"maf_date\":\"10-6-2020\"},\n",
    "         '1012':{\"name\":\"Figs Juice\",\"price\":40,\"quantity\":100,\"ex_date\":\"12-8-2020\",\"maf_date\":\"10-6-2020\"},\n",
    "         '1013':{\"name\":\"Grape Juice\",\"price\":40,\"quantity\":100,\"ex_date\":\"12-8-2020\",\"maf_date\":\"10-6-2020\"},\n",
    "          '1014':{\"name\":\"Guava Juice\",\"price\":40,\"quantity\":100,\"ex_date\":\"12-8-2020\",\"maf_date\":\"10-6-2020\"},\n",
    "         '1015':{\"name\":\"Kiwi Juice\",\"price\":40,\"quantity\":100,\"ex_date\":\"12-8-2020\",\"maf_date\":\"10-6-2020\"},\n",
    "         '1016':{\"name\":\"Lemon Juice\",\"price\":40,\"quantity\":100,\"ex_date\":\"12-8-2020\",\"maf_date\":\"10-6-2020\"},\n",
    "         '1017':{\"name\":\"Lychee Juice\",\"price\":40,\"quantity\":100,\"ex_date\":\"12-8-2020\",\"maf_date\":\"10-6-2020\"},\n",
    "         '1018':{\"name\":\"Mango Juice\",\"price\":40,\"quantity\":100,\"ex_date\":\"12-8-2020\",\"maf_date\":\"10-6-2020\"},\n",
    "         '1019':{\"name\":\"Papaya Juice\",\"price\":40,\"quantity\":100,\"ex_date\":\"12-8-2020\",\"maf_date\":\"10-6-2020\"},\n",
    "         '1020':{\"name\":\"Pineapple Juice\",\"price\":40,\"quantity\":100,\"ex_date\":\"12-8-2020\",\"maf_date\":\"10-6-2020\"},\n",
    "         '1021':{\"name\":\"Sapota Juice\",\"price\":40,\"quantity\":100,\"ex_date\":\"12-8-2020\",\"maf_date\":\"10-6-2020\"},\n",
    "         '1022':{\"name\":\"Star fruit Juice\",\"price\":40,\"quantity\":100,\"ex_date\":\"12-8-2020\",\"maf_date\":\"10-6-2020\"},\n",
    "         '1023':{\"name\":\"Watermelon Juice\",\"price\":40,\"quantity\":100,\"ex_date\":\"12-8-2020\",\"maf_date\":\"10-6-2020\"},\n",
    "         '1024':{\"name\":\"Rose Milk\",\"price\":40,\"quantity\":100,\"ex_date\":\"12-8-2020\",\"maf_date\":\"10-6-2020\"},\n",
    "         '1025':{\"name\":\"badam milk \",\"price\":40,\"quantity\":100,\"ex_date\":\"12-8-2020\",\"maf_date\":\"10-6-2020\"},\n",
    "         '1026':{\"name\":\"vannilla milk\",\"price\":40,\"quantity\":100,\"ex_date\":\"12-8-2020\",\"maf_date\":\"10-6-2020\"},\n",
    "         '1027':{\"name\":\"pista milk\",\"price\":40,\"quantity\":100,\"ex_date\":\"12-8-2020\",\"maf_date\":\"10-6-2020\"},\n",
    "         '1028':{\"name\":\"blackcurrent milk\",\"price\":40,\"quantity\":100,\"ex_date\":\"12-8-2020\",\"maf_date\":\"10-6-2020\"},\n",
    "         '1028':{\"name\":\"mixed juice\",\"price\":40,\"quantity\":100,\"ex_date\":\"12-8-2020\",\"maf_date\":\"10-6-2020\"},\n",
    "         '1030':{\"name\":\"Mojito\",\"price\":40,\"quantity\":100,\"ex_date\":\"12-8-2020\",\"maf_date\":\"10-6-2020\"}}\n",
    "jformat=json.dumps(products)\n",
    "fd.write(jformat)\n",
    "fd.close()\n"
   ]
  },
  {
   "cell_type": "code",
   "execution_count": 3,
   "metadata": {},
   "outputs": [],
   "source": [
    "fd=open(\"records.json\",\"r\")\n",
    "txt=fd.read()\n",
    "fd.close()\n",
    "products=json.loads(txt)\n",
    "\n",
    "fd=open(\"sales.json\",\"r\")\n",
    "txt=fd.read()\n",
    "fd.close()\n",
    "sales=json.loads(txt)\n",
    "\n"
   ]
  },
  {
   "cell_type": "markdown",
   "metadata": {},
   "source": [
    "# Purchasing The Products"
   ]
  },
  {
   "cell_type": "code",
   "execution_count": 19,
   "metadata": {},
   "outputs": [
    {
     "name": "stdout",
     "output_type": "stream",
     "text": [
      "*******************MENU*******************\n",
      "product_id    product_name\n",
      "\n",
      "1001          Apple juice\n",
      "1002          orange Juice\n",
      "1003          jackfruit juice\n",
      "1004          Apricot Juice\n",
      "1005          Butter Fruit Juice\n",
      "1006          Banana Juice\n",
      "1007          Cape gooseberries Juice\n",
      "1008          Cherry Juice\n",
      "1009          Custard apple Juice\n",
      "1010          Dates Juice\n",
      "1011          Plum Juice\n",
      "1012          Figs Juice\n",
      "1013          Grape Juice\n",
      "1014          Guava Juice\n",
      "1015          Kiwi Juice\n",
      "1016          Lemon Juice\n",
      "1017          Lychee Juice\n",
      "1018          Mango Juice\n",
      "1019          Papaya Juice\n",
      "1020          Pineapple Juice\n",
      "1021          Sapota Juice\n",
      "1022          Star fruit Juice\n",
      "1023          Watermelon Juice\n",
      "1024          Rose Milk\n",
      "1025          badam milk \n",
      "1026          vannilla milk\n",
      "1027          pista milk\n",
      "1028          mixed juice\n",
      "1030          Mojito\n"
     ]
    }
   ],
   "source": [
    "print(\"*******************MENU*******************\")\n",
    "print(\"product_id    product_name\",end=\"\\n\\n\")\n",
    "for i in products.keys():\n",
    "    print(i,\"        \",products[i][\"name\"])"
   ]
  },
  {
   "cell_type": "markdown",
   "metadata": {},
   "source": [
    "## Getting Product Id and quantity"
   ]
  },
  {
   "cell_type": "code",
   "execution_count": 30,
   "metadata": {},
   "outputs": [
    {
     "name": "stdout",
     "output_type": "stream",
     "text": [
      "Enter the product id :1020\n",
      "Enter The Quantity :1\n"
     ]
    }
   ],
   "source": [
    "user_id=input(\"Enter the product id :\")\n",
    "quantity=int(input(\"Enter The Quantity :\"))\n",
    "product_id=products.keys()\n",
    "\n",
    "if (user_id not in product_id):\n",
    "    print(\"Entered wrong Product Id \")\n",
    "    \n",
    "    \n",
    "    \n",
    "flag=0\n",
    "if(products[user_id][\"quantity\"]<quantity):\n",
    "    print(\"The available quantity is :\" ,products[user_id][\"quantity\"])\n",
    "    ans=int(input(\"Do you want to take these quantity(1-yes/0-No)\"))\n",
    "    if(ans):\n",
    "        print(\"The bill is processed!!\")\n",
    "        quantity=products[user_id][\"quantity\"]\n",
    "        \n",
    "    else:\n",
    "        flag=1\n",
    "        print(\"choose any other product\")\n",
    "  \n",
    "products[user_id][\"quantity\"]-=quantity\n",
    "   "
   ]
  },
  {
   "cell_type": "markdown",
   "metadata": {},
   "source": [
    "## Printing The Bill"
   ]
  },
  {
   "cell_type": "code",
   "execution_count": 32,
   "metadata": {},
   "outputs": [
    {
     "name": "stdout",
     "output_type": "stream",
     "text": [
      "*************Bill*********** Time : Sun Sep  5 23:07:39 2021 **********************\n",
      "Product : Pineapple Juice\n",
      "Quanity : 1\n",
      "Price : 40\n",
      "Billing Amount : 40\n",
      "***********************************************************************************\n"
     ]
    }
   ],
   "source": [
    "if(flag==0):\n",
    "    print(\"*************Bill***********\",end=\" \")\n",
    "    print(\"Time :\",time.ctime(),\"**********************\")\n",
    "    print(\"Product :\",products[user_id][\"name\"])\n",
    "    print(\"Quanity :\",quantity)\n",
    "    print(\"Price :\",products[user_id][\"price\"])\n",
    "    print(\"Billing Amount :\",products[user_id][\"price\"]*quantity)\n",
    "    print(\"***********************************************************************************\")"
   ]
  },
  {
   "cell_type": "markdown",
   "metadata": {},
   "source": [
    "## Making Transaction Details"
   ]
  },
  {
   "cell_type": "code",
   "execution_count": 37,
   "metadata": {},
   "outputs": [],
   "source": [
    "trans_id=len(sales)+1\n",
    "trans_details=products[user_id].copy()\n",
    "trans_details['time']=time.ctime()\n",
    "trans_details['quantity']=quantity\n",
    "sales[trans_id]=trans_details"
   ]
  },
  {
   "cell_type": "markdown",
   "metadata": {},
   "source": [
    "# Adding the products to the Inventory"
   ]
  },
  {
   "cell_type": "code",
   "execution_count": 35,
   "metadata": {},
   "outputs": [
    {
     "name": "stdout",
     "output_type": "stream",
     "text": [
      "To Add Product\n",
      "Enter the id of the product1030\n",
      "Enter the product Quantity10\n"
     ]
    }
   ],
   "source": [
    "print(\"To Add Product\")\n",
    "product_id=products.keys()\n",
    "new_id=input(\"Enter the id of the product\")\n",
    "if new_id in product_id:\n",
    "    qun=int(input(\"Enter the product Quantity\"))\n",
    "    products[new_id][\"quantity\"]+=qun\n",
    "    print(\"Qunatity Added\")\n",
    "else:\n",
    "    nname=input(\"Enter the name of the product\")\n",
    "    nprice=int(input(\"enter the price\"))\n",
    "    nquantity=int(input(\"enter the quantity\"))\n",
    "    nmdate=input(\"Enter the maf date of the product\")\n",
    "    medate=input(\"Enter the ex date of the product\")\n",
    "    new_product[\"name\"]=nname\n",
    "    new_product[\"price\"]=nprice\n",
    "    new_product[\"quantity\"]=nquantity\n",
    "    new_product[\"ex_date\"]=medate\n",
    "    new_product[\"maf_date\"]=nmdate\n",
    "    products[new_id]=new_product\n",
    "\n"
   ]
  },
  {
   "cell_type": "code",
   "execution_count": 36,
   "metadata": {},
   "outputs": [],
   "source": [
    "fd=open(\"records.json\",\"w\")\n",
    "jformat=json.dumps(products)\n",
    "fd.write(jformat)\n",
    "fd.close()"
   ]
  },
  {
   "cell_type": "code",
   "execution_count": 38,
   "metadata": {},
   "outputs": [],
   "source": [
    "fd=open(\"sales.json\",\"w\")\n",
    "jformat=json.dumps(sales)\n",
    "fd.write(jformat)\n",
    "fd.close()"
   ]
  },
  {
   "cell_type": "code",
   "execution_count": null,
   "metadata": {},
   "outputs": [],
   "source": []
  },
  {
   "cell_type": "code",
   "execution_count": null,
   "metadata": {},
   "outputs": [],
   "source": []
  }
 ],
 "metadata": {
  "kernelspec": {
   "display_name": "Python 3",
   "language": "python",
   "name": "python3"
  },
  "language_info": {
   "codemirror_mode": {
    "name": "ipython",
    "version": 3
   },
   "file_extension": ".py",
   "mimetype": "text/x-python",
   "name": "python",
   "nbconvert_exporter": "python",
   "pygments_lexer": "ipython3",
   "version": "3.7.6"
  }
 },
 "nbformat": 4,
 "nbformat_minor": 4
}
